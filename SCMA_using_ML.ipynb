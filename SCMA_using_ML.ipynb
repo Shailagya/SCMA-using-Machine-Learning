{
  "cells": [
    {
      "cell_type": "code",
      "execution_count": null,
      "metadata": {
        "id": "n5drpck6Ljkb"
      },
      "outputs": [],
      "source": [
        "import csv\n",
        "import numpy as np"
      ]
    },
    {
      "cell_type": "code",
      "execution_count": null,
      "metadata": {
        "id": "70zzLOirsjT7"
      },
      "outputs": [],
      "source": [
        "def last_layer(y):\n",
        "  yret=[]\n",
        "  for yi in y:\n",
        "    if yi<=0.5:\n",
        "      yret.append(0)\n",
        "    else:\n",
        "      yret.append(1)\n",
        "  return yret\n",
        "\n"
      ]
    },
    {
      "cell_type": "code",
      "execution_count": null,
      "metadata": {
        "id": "WkPtOsr6tsDj"
      },
      "outputs": [],
      "source": [
        "def error_layer(ypred,yact):\n",
        "  err=0\n",
        "  for i in range(len(ypred)):\n",
        "    if(ypred[i]!=yact[i]):\n",
        "      err+=1\n",
        "  return (err/len(ypred))*100\n",
        "\n"
      ]
    },
    {
      "cell_type": "code",
      "execution_count": null,
      "metadata": {
        "id": "AxVBE0xPLnwY"
      },
      "outputs": [],
      "source": [
        "# from google.colab import drive\n",
        "# drive.mount('/content/drive')"
      ]
    },
    {
      "cell_type": "code",
      "execution_count": null,
      "metadata": {
        "id": "-BhQ4z8sL11_"
      },
      "outputs": [],
      "source": [
        "# file=open('/content/drive/MyDrive/wsi_data/data.csv')"
      ]
    },
    {
      "cell_type": "code",
      "execution_count": null,
      "metadata": {
        "id": "6j9Jt2JCMBg9"
      },
      "outputs": [],
      "source": [
        "# csvreader=csv.reader(file)\n"
      ]
    },
    {
      "cell_type": "code",
      "execution_count": null,
      "metadata": {
        "id": "Bq_mxZvaMab4"
      },
      "outputs": [],
      "source": [
        "# rows=[]\n",
        "# for row in csvreader:\n",
        "#   rows.append(row)"
      ]
    },
    {
      "cell_type": "code",
      "execution_count": null,
      "metadata": {
        "id": "QUh_QhvwMkRx"
      },
      "outputs": [],
      "source": [
        "# print(len(rows[0]))\n",
        "# print(len(rows))\n",
        "# print(rows)"
      ]
    },
    {
      "cell_type": "code",
      "execution_count": null,
      "metadata": {
        "id": "nByAaCwgiyzc",
        "colab": {
          "base_uri": "https://localhost:8080/"
        },
        "outputId": "282850b0-5cf7-460f-e800-4953fc298dec"
      },
      "outputs": [
        {
          "output_type": "stream",
          "name": "stdout",
          "text": [
            "[[0 0 1 ... 1 1 0]\n",
            " [1 1 0 ... 1 0 1]\n",
            " [1 0 1 ... 1 0 1]\n",
            " ...\n",
            " [1 0 0 ... 1 1 1]\n",
            " [1 0 1 ... 1 0 0]\n",
            " [0 0 1 ... 1 1 1]]\n",
            "-------------\n",
            "[0 0 1 0 0 1 0 0 0 1 1 0]\n"
          ]
        }
      ],
      "source": [
        "import random\n",
        "#r = []\n",
        "#for i in range(20000):\n",
        "#  a = []\n",
        "#  for j in range(12):\n",
        "#    integer = random.randint(0, 1)\n",
        "#    a.append(integer)\n",
        "#\n",
        "#  r.append(a)\n",
        "\n",
        "r = np.random.randint(2,size=(12,200000))\n",
        "r = np.transpose(r)\n",
        "#r = r.flatten()\n",
        "print(r)\n",
        "print(\"-------------\")\n",
        "print(r[0])\n",
        "\n"
      ]
    },
    {
      "cell_type": "code",
      "execution_count": null,
      "metadata": {
        "id": "k_jMwzUnPID0",
        "colab": {
          "base_uri": "https://localhost:8080/"
        },
        "outputId": "30b95eb3-baff-436d-d211-e5dfb6e1760d"
      },
      "outputs": [
        {
          "output_type": "stream",
          "name": "stdout",
          "text": [
            "(200000, 12)\n"
          ]
        }
      ],
      "source": [
        "\n",
        "print(np.shape(r))"
      ]
    },
    {
      "cell_type": "code",
      "execution_count": null,
      "metadata": {
        "id": "Kgg1GtX-Moik"
      },
      "outputs": [],
      "source": [
        "data=r\n",
        "# for row in range(len(rows)):\n",
        "#   ll=[]\n",
        "#   for col in range(len(rows[0])):\n",
        "#     if(rows[row][col]=='0'):\n",
        "#       ll.append(0)\n",
        "#       ll.append(0)\n",
        "#     elif(rows[row][col]=='1'):\n",
        "#       ll.append(0)\n",
        "#       ll.append(1)\n",
        "#     elif(rows[row][col]=='2'):\n",
        "#       ll.append(1)\n",
        "#       ll.append(0)\n",
        "#     elif(rows[row][col]=='3'):\n",
        "#       ll.append(1)\n",
        "#       ll.append(1)\n",
        "#   data.append(ll)\n",
        "\n",
        "\n",
        ""
      ]
    },
    {
      "cell_type": "code",
      "execution_count": null,
      "metadata": {
        "id": "SkRqssWmOsgw"
      },
      "outputs": [],
      "source": [
        "# data = rows"
      ]
    },
    {
      "cell_type": "code",
      "execution_count": null,
      "metadata": {
        "id": "1hAjfGocQUcc"
      },
      "outputs": [],
      "source": [
        "# 80:20 split\n",
        "train=data[0:160000]\n",
        "test=data[160000:200000]\n",
        "train=np.asarray(train,dtype='float32')\n",
        "test=np.asarray(test,dtype='float32')"
      ]
    },
    {
      "cell_type": "code",
      "execution_count": null,
      "metadata": {
        "id": "2CbjcLFQSRbI",
        "colab": {
          "base_uri": "https://localhost:8080/"
        },
        "outputId": "20fdf10f-48a1-4684-a6d9-3a532a7bd65a"
      },
      "outputs": [
        {
          "output_type": "stream",
          "name": "stdout",
          "text": [
            "(160000, 12)\n",
            "----------\n",
            "[[1. 1. 1. ... 1. 0. 1.]\n",
            " [1. 0. 0. ... 1. 1. 1.]\n",
            " [1. 0. 0. ... 0. 0. 1.]\n",
            " ...\n",
            " [0. 1. 0. ... 1. 1. 1.]\n",
            " [0. 0. 1. ... 0. 0. 1.]\n",
            " [0. 1. 1. ... 0. 0. 1.]]\n"
          ]
        }
      ],
      "source": [
        "print(np.shape(train))\n",
        "print(\"----------\")\n",
        "print(test)\n"
      ]
    },
    {
      "cell_type": "code",
      "execution_count": null,
      "metadata": {
        "id": "GN84kaVxSRdb"
      },
      "outputs": [],
      "source": []
    },
    {
      "cell_type": "code",
      "execution_count": null,
      "metadata": {
        "id": "i1-5lT1PSRf2"
      },
      "outputs": [],
      "source": [
        "import matplotlib.pyplot as plt\n",
        "import numpy as np\n",
        "import pandas as pd\n",
        "import tensorflow as tf\n",
        "\n",
        "from sklearn.metrics import accuracy_score, precision_score, recall_score\n",
        "from sklearn.model_selection import train_test_split\n",
        "from tensorflow.keras import layers, losses\n",
        "from tensorflow.keras.datasets import fashion_mnist\n",
        "from tensorflow.keras.models import Model"
      ]
    },
    {
      "cell_type": "code",
      "execution_count": null,
      "metadata": {
        "id": "Q10dxEhASRiL"
      },
      "outputs": [],
      "source": [
        "def gaussian_noise(input_layer, std):\n",
        "    noise = tf.random.normal(shape=tf.shape(input_layer), mean=0.0, stddev=std, dtype=tf.float32)\n",
        "    return input_layer + noise\n",
        "\n",
        "a='tanh'\n",
        "class Autoencoder(Model):\n",
        "  def __init__(self):\n",
        "    super(Autoencoder, self).__init__()\n",
        "    self.encoder = tf.keras.Sequential([\n",
        "      layers.Dense(units=12, activation=a),\n",
        "      layers.Dense(units=32 , activation=a),\n",
        "      layers.Dense(units=32 , activation=a),\n",
        "      layers.Dense(units=32 , activation=a),\n",
        "      layers.Dense(units=32 , activation=a),\n",
        "      layers.Dense(units=8, activation=a),\n",
        "    ])\n",
        "\n",
        "    self.decoder = tf.keras.Sequential([\n",
        "      layers.Dense(units=8, activation=a),\n",
        "      layers.Dense(units=48, activation=a),\n",
        "      layers.Dense(units=48, activation=a),\n",
        "      layers.Dense(units=48, activation=a),\n",
        "      layers.Dense(units=48, activation=a),\n",
        "      layers.Dense(units=48, activation=a),\n",
        "      layers.Dense(units=12, activation='sigmoid'),\n",
        "    ])\n",
        "\n",
        "  def call(self, x):\n",
        "    encoded = self.encoder(x)\n",
        "    print(np.shape(encoded))\n",
        "    print(\"--------------\")\n",
        "    print(encoded)\n",
        "    noise_encoded=gaussian_noise(encoded,0.002)\n",
        "    decoded = self.decoder(noise_encoded)\n",
        "   # final_output = last_layer(decoded)\n",
        "    return decoded\n",
        "    print(\"------------\")\n",
        "    # print(decoded)\n",
        "\n",
        "autoencoder = Autoencoder()"
      ]
    },
    {
      "cell_type": "code",
      "execution_count": null,
      "metadata": {
        "id": "fX38Rl90SRkj"
      },
      "outputs": [],
      "source": [
        "opt=tf.keras.optimizers.Adam(learning_rate=0.0001)\n",
        "autoencoder.compile(optimizer=opt, loss=tf.keras.losses.BinaryCrossentropy(),metrics=['mean_absolute_error','accuracy'])\n",
        "\n"
      ]
    },
    {
      "cell_type": "code",
      "execution_count": null,
      "metadata": {
        "colab": {
          "base_uri": "https://localhost:8080/"
        },
        "id": "n-qU4CpbSRm0",
        "outputId": "e63301b6-14fb-4561-d915-deba02cdb2c8"
      },
      "outputs": [
        {
          "output_type": "stream",
          "name": "stdout",
          "text": [
            "Epoch 1/40\n",
            "(64, 8)\n",
            "--------------\n",
            "Tensor(\"autoencoder/sequential/dense_5/Tanh:0\", shape=(64, 8), dtype=float32)\n",
            "(64, 8)\n",
            "--------------\n",
            "Tensor(\"autoencoder/sequential/dense_5/Tanh:0\", shape=(64, 8), dtype=float32)\n",
            "2500/2500 [==============================] - ETA: 0s - loss: 0.3897 - mean_absolute_error: 0.2827 - accuracy: 0.1547(64, 8)\n",
            "--------------\n",
            "Tensor(\"autoencoder/sequential/dense_5/Tanh:0\", shape=(64, 8), dtype=float32)\n",
            "2500/2500 [==============================] - 16s 5ms/step - loss: 0.3897 - mean_absolute_error: 0.2827 - accuracy: 0.1547 - val_loss: 0.2495 - val_mean_absolute_error: 0.1836 - val_accuracy: 0.1685\n",
            "Epoch 2/40\n",
            "2500/2500 [==============================] - 13s 5ms/step - loss: 0.2173 - mean_absolute_error: 0.1577 - accuracy: 0.1702 - val_loss: 0.1929 - val_mean_absolute_error: 0.1386 - val_accuracy: 0.1805\n",
            "Epoch 3/40\n",
            "2500/2500 [==============================] - 14s 6ms/step - loss: 0.1705 - mean_absolute_error: 0.1240 - accuracy: 0.1678 - val_loss: 0.1469 - val_mean_absolute_error: 0.1099 - val_accuracy: 0.1602\n",
            "Epoch 4/40\n",
            "2500/2500 [==============================] - 13s 5ms/step - loss: 0.1102 - mean_absolute_error: 0.0872 - accuracy: 0.1715 - val_loss: 0.0719 - val_mean_absolute_error: 0.0610 - val_accuracy: 0.1974\n",
            "Epoch 5/40\n",
            "2500/2500 [==============================] - 14s 6ms/step - loss: 0.0459 - mean_absolute_error: 0.0404 - accuracy: 0.2159 - val_loss: 0.0251 - val_mean_absolute_error: 0.0235 - val_accuracy: 0.2259\n",
            "Epoch 6/40\n",
            "2500/2500 [==============================] - 14s 6ms/step - loss: 0.0146 - mean_absolute_error: 0.0141 - accuracy: 0.2349 - val_loss: 0.0080 - val_mean_absolute_error: 0.0079 - val_accuracy: 0.2225\n",
            "Epoch 7/40\n",
            "2500/2500 [==============================] - 14s 6ms/step - loss: 0.0052 - mean_absolute_error: 0.0052 - accuracy: 0.2249 - val_loss: 0.0032 - val_mean_absolute_error: 0.0032 - val_accuracy: 0.2220\n",
            "Epoch 8/40\n",
            "2500/2500 [==============================] - 14s 6ms/step - loss: 0.0022 - mean_absolute_error: 0.0022 - accuracy: 0.2170 - val_loss: 0.0014 - val_mean_absolute_error: 0.0014 - val_accuracy: 0.2069\n",
            "Epoch 9/40\n",
            "2500/2500 [==============================] - 13s 5ms/step - loss: 9.3398e-04 - mean_absolute_error: 9.3253e-04 - accuracy: 0.2137 - val_loss: 6.0337e-04 - val_mean_absolute_error: 6.0277e-04 - val_accuracy: 0.2216\n",
            "Epoch 10/40\n",
            "2500/2500 [==============================] - 14s 6ms/step - loss: 5.6639e-04 - mean_absolute_error: 4.9503e-04 - accuracy: 0.2084 - val_loss: 3.6757e-04 - val_mean_absolute_error: 3.6713e-04 - val_accuracy: 0.1980\n",
            "Epoch 11/40\n",
            "2500/2500 [==============================] - 13s 5ms/step - loss: 2.4498e-04 - mean_absolute_error: 2.4484e-04 - accuracy: 0.2072 - val_loss: 1.7558e-04 - val_mean_absolute_error: 1.7552e-04 - val_accuracy: 0.2122\n",
            "Epoch 12/40\n",
            "2500/2500 [==============================] - 14s 6ms/step - loss: 1.3240e-04 - mean_absolute_error: 1.3236e-04 - accuracy: 0.2151 - val_loss: 9.5650e-05 - val_mean_absolute_error: 9.5633e-05 - val_accuracy: 0.2161\n",
            "Epoch 13/40\n",
            "2500/2500 [==============================] - 13s 5ms/step - loss: 7.0681e-05 - mean_absolute_error: 7.0671e-05 - accuracy: 0.2181 - val_loss: 4.9782e-05 - val_mean_absolute_error: 4.9777e-05 - val_accuracy: 0.2157\n",
            "Epoch 14/40\n",
            "2500/2500 [==============================] - 13s 5ms/step - loss: 3.6274e-05 - mean_absolute_error: 3.6272e-05 - accuracy: 0.2196 - val_loss: 2.5163e-05 - val_mean_absolute_error: 2.5162e-05 - val_accuracy: 0.2222\n",
            "Epoch 15/40\n",
            "2500/2500 [==============================] - 14s 6ms/step - loss: 1.8395e-05 - mean_absolute_error: 1.8395e-05 - accuracy: 0.2212 - val_loss: 1.2889e-05 - val_mean_absolute_error: 1.2888e-05 - val_accuracy: 0.2218\n",
            "Epoch 16/40\n",
            "2500/2500 [==============================] - 14s 6ms/step - loss: 9.5816e-06 - mean_absolute_error: 9.5813e-06 - accuracy: 0.2248 - val_loss: 6.8587e-06 - val_mean_absolute_error: 6.8583e-06 - val_accuracy: 0.2334\n",
            "Epoch 17/40\n",
            "2500/2500 [==============================] - 14s 6ms/step - loss: 5.2799e-06 - mean_absolute_error: 5.2795e-06 - accuracy: 0.2373 - val_loss: 3.9450e-06 - val_mean_absolute_error: 3.9445e-06 - val_accuracy: 0.2464\n",
            "Epoch 18/40\n",
            "2500/2500 [==============================] - 13s 5ms/step - loss: 3.1330e-06 - mean_absolute_error: 3.1323e-06 - accuracy: 0.2539 - val_loss: 2.4332e-06 - val_mean_absolute_error: 2.4323e-06 - val_accuracy: 0.2660\n",
            "Epoch 19/40\n",
            "2500/2500 [==============================] - 13s 5ms/step - loss: 3.4738e-04 - mean_absolute_error: 5.5327e-05 - accuracy: 0.2752 - val_loss: 1.0045e-05 - val_mean_absolute_error: 1.0041e-05 - val_accuracy: 0.2771\n",
            "Epoch 20/40\n",
            "2500/2500 [==============================] - 14s 6ms/step - loss: 6.1543e-06 - mean_absolute_error: 6.1521e-06 - accuracy: 0.2876 - val_loss: 3.9352e-06 - val_mean_absolute_error: 3.9336e-06 - val_accuracy: 0.2956\n",
            "Epoch 21/40\n",
            "2500/2500 [==============================] - 14s 6ms/step - loss: 2.9664e-06 - mean_absolute_error: 2.9651e-06 - accuracy: 0.3079 - val_loss: 2.2848e-06 - val_mean_absolute_error: 2.2835e-06 - val_accuracy: 0.3121\n",
            "Epoch 22/40\n",
            "2500/2500 [==============================] - 13s 5ms/step - loss: 1.9025e-06 - mean_absolute_error: 1.9012e-06 - accuracy: 0.3214 - val_loss: 1.6142e-06 - val_mean_absolute_error: 1.6127e-06 - val_accuracy: 0.3269\n",
            "Epoch 23/40\n",
            "2500/2500 [==============================] - 13s 5ms/step - loss: 1.4137e-06 - mean_absolute_error: 1.4122e-06 - accuracy: 0.3359 - val_loss: 1.2433e-06 - val_mean_absolute_error: 1.2417e-06 - val_accuracy: 0.3446\n",
            "Epoch 24/40\n",
            "2500/2500 [==============================] - 13s 5ms/step - loss: 1.1107e-06 - mean_absolute_error: 1.1090e-06 - accuracy: 0.3572 - val_loss: 9.8462e-07 - val_mean_absolute_error: 9.8296e-07 - val_accuracy: 0.3690\n",
            "Epoch 25/40\n",
            "2500/2500 [==============================] - 14s 6ms/step - loss: 8.8197e-07 - mean_absolute_error: 8.8022e-07 - accuracy: 0.3791 - val_loss: 7.8254e-07 - val_mean_absolute_error: 7.8060e-07 - val_accuracy: 0.3899\n",
            "Epoch 26/40\n",
            "2500/2500 [==============================] - 14s 6ms/step - loss: 7.0537e-07 - mean_absolute_error: 7.0339e-07 - accuracy: 0.4014 - val_loss: 6.3007e-07 - val_mean_absolute_error: 6.2796e-07 - val_accuracy: 0.4114\n",
            "Epoch 27/40\n",
            "2500/2500 [==============================] - 13s 5ms/step - loss: 5.7832e-07 - mean_absolute_error: 5.7615e-07 - accuracy: 0.4239 - val_loss: 5.2388e-07 - val_mean_absolute_error: 5.2163e-07 - val_accuracy: 0.4325\n",
            "Epoch 28/40\n",
            "2500/2500 [==============================] - 13s 5ms/step - loss: 4.8682e-07 - mean_absolute_error: 4.8457e-07 - accuracy: 0.4452 - val_loss: 4.5070e-07 - val_mean_absolute_error: 4.4839e-07 - val_accuracy: 0.4509\n",
            "Epoch 29/40\n",
            "2500/2500 [==============================] - 14s 6ms/step - loss: 2.4015e-04 - mean_absolute_error: 5.1347e-05 - accuracy: 0.4842 - val_loss: 6.3176e-06 - val_mean_absolute_error: 6.3135e-06 - val_accuracy: 0.5141\n",
            "Epoch 30/40\n",
            "2500/2500 [==============================] - 13s 5ms/step - loss: 3.7303e-06 - mean_absolute_error: 3.7275e-06 - accuracy: 0.5118 - val_loss: 2.2910e-06 - val_mean_absolute_error: 2.2885e-06 - val_accuracy: 0.5084\n",
            "Epoch 31/40\n",
            "2500/2500 [==============================] - 13s 5ms/step - loss: 1.5848e-06 - mean_absolute_error: 1.5824e-06 - accuracy: 0.5011 - val_loss: 1.0863e-06 - val_mean_absolute_error: 1.0840e-06 - val_accuracy: 0.4933\n",
            "Epoch 32/40\n",
            "2500/2500 [==============================] - 13s 5ms/step - loss: 8.1200e-07 - mean_absolute_error: 8.0970e-07 - accuracy: 0.4858 - val_loss: 6.2538e-07 - val_mean_absolute_error: 6.2301e-07 - val_accuracy: 0.4827\n",
            "Epoch 33/40\n",
            "2500/2500 [==============================] - 13s 5ms/step - loss: 5.2498e-07 - mean_absolute_error: 5.2261e-07 - accuracy: 0.4790 - val_loss: 4.5633e-07 - val_mean_absolute_error: 4.5391e-07 - val_accuracy: 0.4802\n",
            "Epoch 34/40\n",
            "2500/2500 [==============================] - 14s 6ms/step - loss: 4.0946e-07 - mean_absolute_error: 4.0705e-07 - accuracy: 0.4827 - val_loss: 3.7132e-07 - val_mean_absolute_error: 3.6885e-07 - val_accuracy: 0.4924\n",
            "Epoch 35/40\n",
            "2500/2500 [==============================] - 14s 6ms/step - loss: 3.4309e-07 - mean_absolute_error: 3.4063e-07 - accuracy: 0.4972 - val_loss: 3.1692e-07 - val_mean_absolute_error: 3.1438e-07 - val_accuracy: 0.5074\n",
            "Epoch 36/40\n",
            "2500/2500 [==============================] - 14s 6ms/step - loss: 2.9780e-07 - mean_absolute_error: 2.9519e-07 - accuracy: 0.5162 - val_loss: 2.7865e-07 - val_mean_absolute_error: 2.7598e-07 - val_accuracy: 0.5316\n",
            "Epoch 37/40\n",
            "2500/2500 [==============================] - 13s 5ms/step - loss: 2.6486e-07 - mean_absolute_error: 2.6215e-07 - accuracy: 0.5350 - val_loss: 2.5005e-07 - val_mean_absolute_error: 2.4729e-07 - val_accuracy: 0.5419\n",
            "Epoch 38/40\n",
            "2500/2500 [==============================] - 13s 5ms/step - loss: 2.3986e-07 - mean_absolute_error: 2.3707e-07 - accuracy: 0.5520 - val_loss: 2.2782e-07 - val_mean_absolute_error: 2.2493e-07 - val_accuracy: 0.5582\n",
            "Epoch 39/40\n",
            "2500/2500 [==============================] - 13s 5ms/step - loss: 2.1962e-07 - mean_absolute_error: 2.1677e-07 - accuracy: 0.5677 - val_loss: 2.0928e-07 - val_mean_absolute_error: 2.0642e-07 - val_accuracy: 0.5608\n",
            "Epoch 40/40\n",
            "2500/2500 [==============================] - 14s 6ms/step - loss: 2.0178e-07 - mean_absolute_error: 1.9884e-07 - accuracy: 0.5795 - val_loss: 1.9236e-07 - val_mean_absolute_error: 1.8935e-07 - val_accuracy: 0.5920\n",
            "Runtime of the program is 538.0950753688812\n"
          ]
        }
      ],
      "source": [
        "import time\n",
        "\n",
        "# starting time\n",
        "start = time.time()\n",
        "history=autoencoder.fit(train, train,epochs=40,batch_size=64,shuffle=True,validation_data=(test, test))\n",
        "\n",
        "end = time.time()\n",
        "\n",
        "# total time taken\n",
        "print(f\"Runtime of the program is {end - start}\")"
      ]
    },
    {
      "cell_type": "code",
      "execution_count": null,
      "metadata": {
        "colab": {
          "base_uri": "https://localhost:8080/",
          "height": 201
        },
        "id": "mQfmwTOntkOq",
        "outputId": "d3c1abe0-4ca7-4b1f-9f8e-be47fa535e46"
      },
      "outputs": [
        {
          "output_type": "stream",
          "name": "stdout",
          "text": [
            "<__main__.Autoencoder object at 0x7fd7460c6190>\n"
          ]
        },
        {
          "output_type": "error",
          "ename": "AttributeError",
          "evalue": "ignored",
          "traceback": [
            "\u001b[0;31m---------------------------------------------------------------------------\u001b[0m",
            "\u001b[0;31mAttributeError\u001b[0m                            Traceback (most recent call last)",
            "\u001b[0;32m<ipython-input-16-d85126149aa5>\u001b[0m in \u001b[0;36m<module>\u001b[0;34m()\u001b[0m\n\u001b[1;32m      1\u001b[0m \u001b[0mprint\u001b[0m\u001b[0;34m(\u001b[0m\u001b[0mautoencoder\u001b[0m\u001b[0;34m)\u001b[0m\u001b[0;34m\u001b[0m\u001b[0;34m\u001b[0m\u001b[0m\n\u001b[0;32m----> 2\u001b[0;31m \u001b[0mprint\u001b[0m\u001b[0;34m(\u001b[0m\u001b[0mautoencoder\u001b[0m\u001b[0;34m.\u001b[0m\u001b[0m_init_\u001b[0m\u001b[0;34m)\u001b[0m\u001b[0;34m\u001b[0m\u001b[0;34m\u001b[0m\u001b[0m\n\u001b[0m",
            "\u001b[0;31mAttributeError\u001b[0m: 'Autoencoder' object has no attribute '_init_'"
          ]
        }
      ],
      "source": [
        "print(autoencoder)\n",
        "print(autoencoder._init_)\n"
      ]
    },
    {
      "cell_type": "code",
      "execution_count": null,
      "metadata": {
        "colab": {
          "base_uri": "https://localhost:8080/",
          "height": 334
        },
        "id": "Rwqai-ppSRpN",
        "outputId": "5f65d9f5-a0a9-42d2-d6c9-dfe73286fb46"
      },
      "outputs": [
        {
          "output_type": "stream",
          "name": "stdout",
          "text": [
            "[0.3151634633541107, 0.22805744409561157, 0.1712631732225418, 0.1341165006160736, 0.09934718906879425, 0.06348005682229996, 0.0361974872648716, 0.01704563945531845, 0.007987507618963718, 0.003470492549240589, 0.0014338854234665632, 0.0006081638275645673, 0.0002644218329805881, 0.0002935000811703503, 0.00010546128760324791, 6.1027145420666784e-05, 3.356103479745798e-05, 1.763084947015159e-05, 9.188112017000094e-06, 4.9743753152142745e-06, 2.8918468615302118e-06, 7.615763752255589e-05, 6.406447937479243e-06, 3.351833356646239e-06, 2.270961203976185e-06, 1.7021200164890615e-06, 1.2927880561619531e-06, 9.688802720120293e-07, 7.414080869239115e-07, 5.897890673622896e-07, 4.839908456233388e-07, 4.052917574881576e-07, 5.618850627797656e-05, 2.3836639684304828e-06, 1.1382355751266005e-06, 6.486727670562686e-07, 4.2561140389807406e-07, 3.2274527939080144e-07, 2.6913863848676556e-07, 2.32933714983119e-07]\n",
            "[0.25101298093795776, 0.2079237848520279, 0.15051107108592987, 0.11799570173025131, 0.08012992143630981, 0.04887720197439194, 0.024794934317469597, 0.01138309296220541, 0.005973251536488533, 0.0021373890340328217, 0.0009005768806673586, 0.00038746799691580236, 0.00017083974671550095, 0.00013687390310224146, 7.972409366630018e-05, 4.4997148506809026e-05, 2.4057690097833984e-05, 1.2481475096137729e-05, 6.592162662855117e-06, 3.7006850561738247e-06, 2.2601675482292194e-06, 9.915205737343058e-06, 4.236005224811379e-06, 2.660316567926202e-06, 1.942990138559253e-06, 1.4871118310111342e-06, 1.1166223430336686e-06, 8.413940690843447e-07, 6.582813512068242e-07, 5.316119313647505e-07, 4.39810435182153e-07, 3.87438376492355e-07, 3.5063278573943535e-06, 1.5483142306038644e-06, 8.193770213438256e-07, 5.07095364810084e-07, 3.6022174754180014e-07, 2.915666357239388e-07, 2.4940246134974586e-07, 2.1917011849836854e-07]\n"
          ]
        },
        {
          "output_type": "display_data",
          "data": {
            "image/png": "[encoded data removed]",
            "text/plain": [
              "<Figure size 432x288 with 1 Axes>"
            ]
          },
          "metadata": {
            "needs_background": "light"
          }
        }
      ],
      "source": [
        "import matplotlib.pyplot as plt\n",
        "training_loss = history.history['mean_absolute_error']\n",
        "test_loss = history.history['val_mean_absolute_error']\n",
        "epoch_count = range(1, len(training_loss) + 1)\n",
        "\n",
        "print(training_loss)\n",
        "print(test_loss)\n",
        "# Visualize loss history\n",
        "plt.semilogy(epoch_count, training_loss, 'r--')\n",
        "plt.semilogy(epoch_count, test_loss, 'b-')\n",
        "plt.legend(['Training Loss', 'Test Loss'])\n",
        "plt.xlabel('SNR ')\n",
        "plt.ylabel('Loss')\n",
        "plt.show();"
      ]
    },
    {
      "cell_type": "code",
      "execution_count": null,
      "metadata": {
        "colab": {
          "base_uri": "https://localhost:8080/",
          "height": 280
        },
        "id": "S8djF4YpSRrl",
        "outputId": "ff93df4c-00a0-49c8-9ca2-824ae9b90265"
      },
      "outputs": [
        {
          "output_type": "display_data",
          "data": {
            "image/png": "[encoded data removed]",
            "text/plain": [
              "<Figure size 432x288 with 1 Axes>"
            ]
          },
          "metadata": {
            "needs_background": "light"
          }
        }
      ],
      "source": [
        "import matplotlib.pyplot as plt\n",
        "training_accuracy = history.history['accuracy']\n",
        "test_accuracy = history.history['val_accuracy']\n",
        "epoch_count = range(1, len(training_loss) + 1)\n",
        "\n",
        "# Visualize loss history\n",
        "plt.plot(epoch_count, training_accuracy, 'r--')\n",
        "plt.plot(epoch_count, test_accuracy, 'b-')\n",
        "plt.legend(['Training accuracy', 'Test accuracy'])\n",
        "plt.xlabel('SNR')\n",
        "plt.ylabel('Accuracy')\n",
        "plt.show()"
      ]
    },
    {
      "cell_type": "code",
      "execution_count": null,
      "metadata": {
        "colab": {
          "base_uri": "https://localhost:8080/",
          "height": 877
        },
        "id": "cpugXkgLOTzV",
        "outputId": "5750fbfa-a993-4e9a-f67c-5eaddd5e1eae"
      },
      "outputs": [
        {
          "name": "stdout",
          "output_type": "stream",
          "text": [
            "Downloading data from https://storage.googleapis.com/tensorflow/tf-keras-datasets/mnist.npz\n",
            "11493376/11490434 [==============================] - 0s 0us/step\n",
            "11501568/11490434 [==============================] - 0s 0us/step\n",
            "[[0. 0. 0. ... 0. 0. 0.]\n",
            " [0. 0. 0. ... 0. 0. 0.]\n",
            " [0. 0. 0. ... 0. 0. 0.]\n",
            " ...\n",
            " [0. 0. 0. ... 0. 0. 0.]\n",
            " [0. 0. 0. ... 0. 0. 0.]\n",
            " [0. 0. 0. ... 0. 0. 0.]]\n",
            "[[0. 0. 0. ... 0. 0. 0.]\n",
            " [0. 0. 0. ... 0. 0. 0.]\n",
            " [0. 0. 0. ... 0. 0. 0.]\n",
            " ...\n",
            " [0. 0. 0. ... 0. 0. 0.]\n",
            " [0. 0. 0. ... 0. 0. 0.]\n",
            " [0. 0. 0. ... 0. 0. 0.]]\n",
            "Epoch 1/10\n",
            "59/59 [==============================] - 4s 25ms/step - loss: 0.0927 - val_loss: 0.0669\n",
            "Epoch 2/10\n",
            "59/59 [==============================] - 1s 23ms/step - loss: 0.0637 - val_loss: 0.0616\n",
            "Epoch 3/10\n",
            "59/59 [==============================] - 1s 22ms/step - loss: 0.0540 - val_loss: 0.0471\n",
            "Epoch 4/10\n",
            "59/59 [==============================] - 1s 22ms/step - loss: 0.0437 - val_loss: 0.0401\n",
            "Epoch 5/10\n",
            "59/59 [==============================] - 1s 22ms/step - loss: 0.0379 - val_loss: 0.0355\n",
            "Epoch 6/10\n",
            "59/59 [==============================] - 2s 26ms/step - loss: 0.0346 - val_loss: 0.0333\n",
            "Epoch 7/10\n",
            "59/59 [==============================] - 1s 25ms/step - loss: 0.0326 - val_loss: 0.0324\n",
            "Epoch 8/10\n",
            "59/59 [==============================] - 1s 24ms/step - loss: 0.0314 - val_loss: 0.0307\n",
            "Epoch 9/10\n",
            "59/59 [==============================] - 2s 26ms/step - loss: 0.0303 - val_loss: 0.0292\n",
            "Epoch 10/10\n",
            "59/59 [==============================] - 2s 27ms/step - loss: 0.0287 - val_loss: 0.0278\n"
          ]
        },
        {
          "ename": "AttributeError",
          "evalue": "ignored",
          "output_type": "error",
          "traceback": [
            "\u001b[0;31m---------------------------------------------------------------------------\u001b[0m",
            "\u001b[0;31mAttributeError\u001b[0m                            Traceback (most recent call last)",
            "\u001b[0;32m<ipython-input-1-3bac7ccbead4>\u001b[0m in \u001b[0;36m<module>\u001b[0;34m()\u001b[0m\n\u001b[1;32m     40\u001b[0m \u001b[0;34m\u001b[0m\u001b[0m\n\u001b[1;32m     41\u001b[0m \u001b[0;31m#Print one image to see the noise\u001b[0m\u001b[0;34m\u001b[0m\u001b[0;34m\u001b[0m\u001b[0;34m\u001b[0m\u001b[0m\n\u001b[0;32m---> 42\u001b[0;31m \u001b[0mplt\u001b[0m\u001b[0;34m.\u001b[0m\u001b[0mshow\u001b[0m\u001b[0;34m(\u001b[0m\u001b[0mx_test_noisy\u001b[0m\u001b[0;34m[\u001b[0m\u001b[0;36m1\u001b[0m\u001b[0;34m]\u001b[0m\u001b[0;34m.\u001b[0m\u001b[0mreshape\u001b[0m\u001b[0;34m(\u001b[0m\u001b[0;36m28\u001b[0m\u001b[0;34m,\u001b[0m \u001b[0;36m28\u001b[0m\u001b[0;34m)\u001b[0m\u001b[0;34m)\u001b[0m\u001b[0;34m\u001b[0m\u001b[0;34m\u001b[0m\u001b[0m\n\u001b[0m\u001b[1;32m     43\u001b[0m \u001b[0mdecoded_output\u001b[0m \u001b[0;34m=\u001b[0m \u001b[0mautoencoder\u001b[0m\u001b[0;34m.\u001b[0m\u001b[0mpredict\u001b[0m\u001b[0;34m(\u001b[0m\u001b[0mtrain_x\u001b[0m\u001b[0;34m)\u001b[0m        \u001b[0;31m# reconstruction\u001b[0m\u001b[0;34m\u001b[0m\u001b[0;34m\u001b[0m\u001b[0m\n\u001b[1;32m     44\u001b[0m \u001b[0mencoding_dim\u001b[0m \u001b[0;34m=\u001b[0m \u001b[0;36m10\u001b[0m\u001b[0;34m\u001b[0m\u001b[0;34m\u001b[0m\u001b[0m\n",
            "\u001b[0;31mAttributeError\u001b[0m: module 'matplotlib' has no attribute 'show'"
          ]
        }
      ],
      "source": [
        "import numpy as np\n",
        "import keras\n",
        "import tensorflow as tf\n",
        "from keras.datasets import mnist\n",
        "from keras.models import Sequential, Model\n",
        "from keras.layers import Dense, Input\n",
        "from keras import optimizers\n",
        "import matplotlib as plt\n",
        "\n",
        "(x_train, y_train), (x_test, y_test) = mnist.load_data()\n",
        "train_x = x_train.reshape(60000, 784) / 255\n",
        "val_x = x_test.reshape(10000, 784) / 255\n",
        "print(train_x)\n",
        "print(val_x)\n",
        "autoencoder = Sequential()\n",
        "autoencoder.add(Dense(512,  activation='relu', input_shape=(784,)))\n",
        "autoencoder.add(Dense(256,  activation='relu'))\n",
        "autoencoder.add(Dense(128,  activation='relu'))\n",
        "autoencoder.add(Dense(64,  activation='relu'))\n",
        "autoencoder.add(Dense(32,  activation='relu'))\n",
        "autoencoder.add(Dense(8,    activation='linear', name=\"bottleneck\"))\n",
        "autoencoder.add(Dense(32,  activation='relu'))\n",
        "autoencoder.add(Dense(64,  activation='relu'))\n",
        "autoencoder.add(Dense(128,  activation='relu'))\n",
        "autoencoder.add(Dense(256,  activation='relu'))\n",
        "autoencoder.add(Dense(512,  activation='relu'))\n",
        "autoencoder.add(Dense(784,  activation='sigmoid'))\n",
        "opt=tf.keras.optimizers.Adam(learning_rate=0.001)\n",
        "autoencoder.compile(loss='mean_squared_error', optimizer = opt)\n",
        "trained_model = autoencoder.fit(train_x, train_x, batch_size=1024, epochs=10, verbose=1, validation_data=(val_x, val_x))\n",
        "encoder = Model(autoencoder.input, autoencoder.get_layer('bottleneck').output)\n",
        "encoded_data = encoder.predict(train_x)\n",
        "# bottleneck representation\n",
        "noise_factor = 0.5\n",
        "x_train_noisy = x_train + noise_factor * np.random.normal(loc=0.0, scale=1.0, size=x_train.shape)\n",
        "x_test_noisy = x_test + noise_factor * np.random.normal(loc=0.0, scale=1.0, size=x_test.shape)\n",
        "\n",
        "x_train_noisy = np.clip(x_train_noisy, 0., 1.)\n",
        "x_test_noisy = np.clip(x_test_noisy, 0., 1.)\n",
        "\n",
        "#Print one image to see the noise\n",
        "plt.show(x_test_noisy[1].reshape(28, 28))\n",
        "decoded_output = autoencoder.predict(train_x)        # reconstruction\n",
        "encoding_dim = 10\n",
        "\n",
        "# return the decoder\n",
        "encoded_input = Input(shape=(encoding_dim,))\n",
        "decoder = autoencoder.layers[-6](encoded_input)\n",
        "decoder = autoencoder.layers[-5](decoder)\n",
        "decoder = autoencoder.layers[-4](decoder)\n",
        "decoder = autoencoder.layers[-3](decoder)\n",
        "decoder = autoencoder.layers[-2](decoder)\n",
        "decoder = autoencoder.layers[-1](decoder)\n",
        "\n",
        "decoder = Model(encoded_input, decoder)\n"
      ]
    },
    {
      "cell_type": "code",
      "execution_count": null,
      "metadata": {
        "id": "HSTPTqusPf_7"
      },
      "outputs": [],
      "source": [
        "plt.plot(trained_model.history['loss'], label='train')\n",
        "plt.plot(trained_model.history['val_loss'], label='test')\n",
        "plt.legend()\n",
        "plt.show()"
      ]
    }
  ],
  "metadata": {
    "accelerator": "GPU",
    "colab": {
      "provenance": []
    },
    "kernelspec": {
      "display_name": "Python 3",
      "name": "python3"
    },
    "language_info": {
      "name": "python"
    }
  },
  "nbformat": 4,
  "nbformat_minor": 0
}